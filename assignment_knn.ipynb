{
  "cells": [
    {
      "cell_type": "markdown",
      "id": "f7ef20f0-722f-4240-8a79-437d4a3b8832",
      "metadata": {
        "id": "f7ef20f0-722f-4240-8a79-437d4a3b8832"
      },
      "source": [
        "## Assignment 3: $k$ Nearest Neighbor\n",
        "\n",
        "**Do two questions.**\n",
        "\n",
        "`! git clone https://github.com/DS3001/knn`"
      ]
    },
    {
      "cell_type": "markdown",
      "id": "5d9212c0",
      "metadata": {
        "id": "5d9212c0"
      },
      "source": [
        "**Q0.**\n",
        "1. What is the difference between regression and classification?\n",
        "\n",
        "the difference between regression and classification si that classification is used for categorical variables\n",
        "\n",
        "2. What is a confusion table? What does it help us understand about a model's performance?\n",
        "\n",
        "a table used in machine learning to visually assess the performance of a classification model by comparing its predicted classifications against the actual known classifications, allowing you to see how many predictions were correct and incorrect for each category, and identify specific areas where the model might be making mistakes\n",
        "\n",
        "3. What does the SSE quantify about a particular model?\n",
        "\n",
        "is the sum of squared differences between each value of the observed dependent variable and the value of the dependent variable predicted by a regression model for the same data point of the independent variable. Basically how well the model fits the data lower SSE is better fit than higher SSE\n",
        "\n",
        "4. What are overfitting and underfitting?\n",
        "\n",
        "Overfitting- When a model is too complex and performs well on training data but poorly on test data. This happens when a model learns too many details and noise from the training data, which negatively impacts its performance on new data\n",
        "\n",
        "Underfitting-\n",
        "When a model is too simple and performs poorly on both training and test data. This happens when a model doesn't have enough time or data to train, or when it's mismatched to the data\n",
        "\n",
        "5. Why does splitting the data into training and testing sets, and choosing $k$ by evaluating accuracy or SSE on the test set, improve model performance?\n",
        "\n",
        "One I think it is less computationally heavy when you split them into two parts. You allow your model to train on a training set and test it on a testing set, a metaphor to think of is like a student that memorizes questions for an exam but can't apply it to different concepts.\n",
        "\n",
        "6. With classification, we can report a class label as a prediction or a probability distribution over class labels. Please explain the strengths and weaknesses of each approach.\n",
        "\n",
        "simply stating a class label is straightforward and easy to interpret, but lacks information about the model's confidence in the prediction, while providing a probability distribution over class labels offers a richer understanding of the prediction's uncertainty, allowing for more nuanced decision making, but can be more complex to interpret and utilize in certain applications."
      ]
    },
    {
      "cell_type": "markdown",
      "id": "194455fa",
      "metadata": {
        "id": "194455fa"
      },
      "source": [
        "**Q1.** This question is a case study for $k$ nearest neighbor regression, using the `USA_cars_datasets.csv` data.\n",
        "\n",
        "The target variable `y` is `price` and the features are `year` and `mileage`.\n",
        "\n",
        "1. Load the `./data/USA_cars_datasets.csv`. Keep the following variables and drop the rest: `price`, `year`, `mileage`. Are there any `NA`'s to handle? Look at the head and dimensions of the data.\n",
        "2. Maxmin normalize `year` and `mileage`.\n",
        "3. Split the sample into ~80% for training and ~20% for evaluation.\n",
        "4. Use the $k$NN algorithm and the training data to predict `price` using `year` and `mileage` for the test set for $k=3,10,25,50,100,300$. For each value of $k$, compute the mean squared error and print a scatterplot showing the test value plotted against the predicted value. What patterns do you notice as you increase $k$?\n",
        "5. Determine the optimal $k$ for these data.\n",
        "6. Describe what happened in the plots of predicted versus actual prices as $k$ varied, taking your answer into part 6 into account. (Hint: Use the words \"underfitting\" and \"overfitting\".)"
      ]
    },
    {
      "cell_type": "markdown",
      "id": "287b8586",
      "metadata": {
        "id": "287b8586"
      },
      "source": [
        "**Q2.** This is a case study on $k$ nearest neighbor classification, using the `animals.csv` data.\n",
        "\n",
        "The data consist of a label, `class`, taking integer values 1 to 7, the name of the species, `animal`, and 16 characteristics of the animal, including `hair`, `feathers`, `milk`, `eggs`, `airborne`, and so on.\n",
        "\n",
        "1. Load the data. For each of the seven class labels, print the values in the class and get a sense of what is included in that group. Perform some other EDA: How big are the classes? How much variation is there in each of the features/covariates? Which variables do you think will best predict which class?\n",
        "2. Split the data 50/50 into training and test/validation sets. (The smaller the data are, the more equal the split should be, in my experience: Otherwise, all of the members of one class end up in the training or test data, and the model falls apart.)\n",
        "3. Using all of the variables, build a $k$-NN classifier. Explain how you select $k$.\n",
        "4. Print a confusion table for the optimal model, comparing predicted and actual class label on the test set. How accurate it is? Can you interpret why mistakes are made across groups?\n",
        "5. Use only `milk`, `aquatic`, and `airborne` to train a new $k$-NN classifier. Print your confusion table. Mine does not predict all of the classes, only a subset of them. To see the underlying probabilities, use `model.predict_proba(X_test.values)` to predict probabilities rather than labels for your `X_test` test data for your fitted `model`. Are all of the classes represented? Explain your results."
      ]
    },
    {
      "cell_type": "markdown",
      "id": "c008c35c",
      "metadata": {
        "id": "c008c35c"
      },
      "source": [
        "**Q3.** This question is a case study for $k$ nearest neighbor regression, using the `cars_env.csv` data.\n",
        "\n",
        "The variables that go into the model are one more dimension to think about: We can use the train-test split approach to pick the variables that go into the model, not just the number of neighbors.\n",
        "\n",
        "1. Load the data. We're going to use `footprint`, `baseline mpg`, `baseline price`, and `baseline sales`. Prepare some EDA results for these variables: describe tables, histograms/kernel density plots, scatterplots, etc. I renamed these variables to `footprint`, `mpg`, `price`, and `sales` to save time.\n",
        "2. Maxmin normalize `footprint`, `mpg`, and `price`. These will be our features/covariates $X$. Our target/dependent/outcome variable $y$ will be sales. Does it make sense to normalize $y$?\n",
        "3. Make a 30% train-test split of the data into 30% test/validation data and 70% training data.\n",
        "4. Using all three covariates --- `footprint`, `mpg`, and `price` --- what's the best $k$ to use? What SSE is achieved on the test set? To answer these questions, evalute the sum of squared error on the test set for a reasonable range of values of $k$ (perhaps 2 to 150), and find the $k$ with the lowest SSE.\n",
        "5. Do part 4 again, for each pair of variables: `footprint` and `mpg`, `footprint` and `price`, `mpg` and `price`.\n",
        "6. Which set of variables from parts 4 and 5 does the best, in terms of minimizing SSE at the optimal choice of neighbors? Explain."
      ]
    },
    {
      "cell_type": "markdown",
      "id": "6a0ff5e3",
      "metadata": {
        "id": "6a0ff5e3"
      },
      "source": [
        "**Q4.** This is a case study on $k$ nearest neighbor classification, using the `land_mines.csv` data.\n",
        "\n",
        "The data consists of a label, `mine_type`, taking integer values 1 to 5, and three properties of the mine, `voltage`, `height` and `soil`. We want to predict the kind of mine from data about it. Imagine working for the DOD or a humanitarian aid agency, trying to help people remove land mines more safely.\n",
        "\n",
        "1. Load the data. Perform some EDA, summarizing the target label and the features.\n",
        "2. Split the sample 50/50 into training and test/validation sets. (The smaller the data are, the more equal the split should be, in my experience: Otherwise, all of the members of one class end up in the training or test data, and the model falls apart.)\n",
        "3. Build a $k$-NN classifier. Explain how you select $k$.\n",
        "4. Print a confusion table for the optimal model, comparing predicted and actual class label on the test set. How accurate is it? Where is performance more or less accurate?\n",
        "5. Notice that you can have a lot of accurate predictions for a given type of mine, but still make a lot of mistakes. Please explain how you'd advise someone to actually use this predictive model in practice, given the errors that it tends to make."
      ]
    },
    {
      "cell_type": "markdown",
      "id": "010b57f7-bf4f-4494-b54c-49c4f3ae3ab9",
      "metadata": {
        "id": "010b57f7-bf4f-4494-b54c-49c4f3ae3ab9"
      },
      "source": [
        "**Q5.** This question is a case study for $k$ nearest neighbor regression, using the `heart_failure_clinical_records_dataset.csv` data.\n",
        "\n",
        "The data for the question include:\n",
        "\n",
        "- age: age of the patient (years)\n",
        "- anaemia: decrease of red blood cells or hemoglobin (boolean)\n",
        "- high blood pressure: if the patient has hypertension (boolean)\n",
        "- creatinine phosphokinase (CPK): level of the CPK enzyme in the blood (mcg/L)\n",
        "- diabetes: if the patient has diabetes (boolean)\n",
        "- ejection fraction: percentage of blood leaving the heart at each contraction (percentage)\n",
        "- platelets: platelets in the blood (kiloplatelets/mL)\n",
        "- sex: woman or man (binary)\n",
        "- serum creatinine: level of serum creatinine in the blood (mg/dL)\n",
        "- serum sodium: level of serum sodium in the blood (mEq/L)\n",
        "- smoking: if the patient smokes or not (boolean)\n",
        "- time: follow-up period (days)\n",
        "- death event: if the patient deceased during the follow-up period (boolean)\n",
        "\n",
        "1. Load the `./data/heart_failure_clinical_records_dataset.csv`. Are there any `NA`'s to handle? use `.drop()` to remove `time` from the dataframe.\n",
        "2. Make a correlation matrix. What variables are strongly associated with a death event?\n",
        "3. For the dummy variables `anaemia`, `diabetes`, `high_blood_pressure`, `sex`, and `smoking`, compute a summary table of `DEATH_EVENT` grouped by the variable. For which variables does a higher proportion of the population die when the variable takes the value 1 rather than 0?\n",
        "4. On the basis of your answers from 2 and 3, build a matrix $X$ of the variables you think are most predictive of a death, and a variable $y$ equal to `DEATH_EVENT`.\n",
        "5. Maxmin normalize all of the variables in `X`.\n",
        "6. Split the sample into ~80% for training and ~20% for evaluation. (Try to use the same train/test split for the whole question, so that you're comparing apples to apples in the questions below.).\n",
        "7. Determine the optimal number of neighbors for a $k$NN regression for the variables you selected.\n",
        "8. OK, do steps 5 through 7 again, but use all of the variables (except `time`). Which model has a lower Sum of Squared Error? Which would you prefer to use in practice, if you had to predict `DEATH_EVENT`s? If you play with the selection of variables, how much does the SSE change for your fitted model on the test data? Are more variables always better? Explain your findings."
      ]
    },
    {
      "cell_type": "code",
      "source": [
        "import pandas as pd\n",
        "import numpy as np\n",
        "df = pd.read_csv('heart_failure_clinical_records_dataset.csv')\n",
        "print(df.shape)\n",
        "print(df.describe())\n",
        "\n",
        "#No NA values\n",
        "\n",
        "df = df.drop('time',axis=1)\n",
        "\n",
        "\n",
        "matrix = print(df.corr())  #the strongest correlation are age and serum creatine in blood and ejection_fraction\n",
        "df\n",
        "matrix\n",
        "\n",
        "vars = ['anaemia','diabetes','high_blood_pressure','sex','smoking']\n",
        "for var in vars:\n",
        "    print(df.loc[:,[var,'DEATH_EVENT']].groupby(var).describe())\n",
        "\n",
        "\n",
        "y = df['DEATH_EVENT']\n",
        "vars = ['age','ejection_fraction','serum_creatinine','high_blood_pressure','anaemia']\n",
        "X = df.loc[:,vars]\n",
        "\n",
        "\n",
        "def maxmin(x):\n",
        "    u = (x-min(x))/(max(x)-min(x))\n",
        "    return u\n",
        "X = X.apply(maxmin)\n",
        "\n",
        "from sklearn.neighbors import KNeighborsRegressor\n",
        "\n",
        "# Determine the optimal k:\n",
        "k_bar = 25\n",
        "k_grid = np.arange(1,k_bar) # The range of k's to consider\n",
        "SSE = np.zeros(k_bar)\n",
        "\n",
        "for k in range(k_bar):\n",
        "    knn = KNeighborsRegressor(n_neighbors=k+1)\n",
        "    predictor = knn.fit(X_train,y_train)\n",
        "    y_hat = knn.predict(X_test)\n",
        "    SSE[k] = np.sum( (y_test-y_hat)**2 )\n",
        "\n",
        "SSE_min = np.min(SSE) # highest recorded accuracy\n",
        "min_index = np.where(SSE==SSE_min)\n",
        "k_star = k_grid[min_index] # Find the optimal value of k\n",
        "print(k_star)\n",
        "\n",
        "plt.plot(np.arange(0,k_bar),SSE) # Plot accuracy by k\n",
        "plt.xlabel(\"k\")\n",
        "plt.title(\"optimal k:\"+str(k_star)+', SSE:'+str(SSE_min))\n",
        "plt.ylabel('SSE')\n",
        "plt.show()\n",
        "\n",
        "\n",
        "\n",
        "X = df.drop('DEATH_EVENT',axis=1)\n",
        "\n",
        "X_train = X.iloc[train,:]\n",
        "y_train = y.iloc[train]\n",
        "X_test = X.iloc[test,:]\n",
        "y_test = y.iloc[test]\n",
        "\n",
        "from sklearn.neighbors import KNeighborsRegressor\n",
        "\n",
        "# Determine the optimal k:\n",
        "k_bar = 100\n",
        "k_grid = np.arange(1,k_bar) # The range of k's to consider\n",
        "SSE = np.zeros(k_bar)\n",
        "\n",
        "for k in range(k_bar):\n",
        "    knn = KNeighborsRegressor(n_neighbors=k+1)\n",
        "    predictor = knn.fit(X_train,y_train)\n",
        "    y_hat = knn.predict(X_test)\n",
        "    SSE[k] = np.sum( (y_test-y_hat)**2 ) # Bug in sklearn requires .values\n",
        "\n",
        "SSE_min = np.min(SSE) # highest recorded accuracy\n",
        "min_index = np.where(SSE==SSE_min)\n",
        "k_star = k_grid[min_index] # Find the optimal value of k\n",
        "print(k_star)\n",
        "\n",
        "plt.plot(np.arange(0,k_bar),SSE) # Plot accuracy by k\n",
        "plt.xlabel(\"k\")\n",
        "plt.title(\"optimal k:\"+str(k_star)+', SSE:'+str(SSE_min))\n",
        "plt.ylabel('SSE')\n",
        "plt.show()\n",
        "\n",
        "#it seems the optimal K is 6 and 83,  a simpler model does a better job at predicitng since we aren't overfitting or underfitting the data"
      ],
      "metadata": {
        "id": "9rdMo_TsUNTP",
        "outputId": "b03b5778-20d6-4367-b1de-93159e40ad42",
        "colab": {
          "base_uri": "https://localhost:8080/",
          "height": 1000
        }
      },
      "id": "9rdMo_TsUNTP",
      "execution_count": 14,
      "outputs": [
        {
          "output_type": "stream",
          "name": "stdout",
          "text": [
            "(299, 13)\n",
            "              age     anaemia  creatinine_phosphokinase    diabetes  \\\n",
            "count  299.000000  299.000000                299.000000  299.000000   \n",
            "mean    60.833893    0.431438                581.839465    0.418060   \n",
            "std     11.894809    0.496107                970.287881    0.494067   \n",
            "min     40.000000    0.000000                 23.000000    0.000000   \n",
            "25%     51.000000    0.000000                116.500000    0.000000   \n",
            "50%     60.000000    0.000000                250.000000    0.000000   \n",
            "75%     70.000000    1.000000                582.000000    1.000000   \n",
            "max     95.000000    1.000000               7861.000000    1.000000   \n",
            "\n",
            "       ejection_fraction  high_blood_pressure      platelets  \\\n",
            "count         299.000000           299.000000     299.000000   \n",
            "mean           38.083612             0.351171  263358.029264   \n",
            "std            11.834841             0.478136   97804.236869   \n",
            "min            14.000000             0.000000   25100.000000   \n",
            "25%            30.000000             0.000000  212500.000000   \n",
            "50%            38.000000             0.000000  262000.000000   \n",
            "75%            45.000000             1.000000  303500.000000   \n",
            "max            80.000000             1.000000  850000.000000   \n",
            "\n",
            "       serum_creatinine  serum_sodium         sex    smoking        time  \\\n",
            "count         299.00000    299.000000  299.000000  299.00000  299.000000   \n",
            "mean            1.39388    136.625418    0.648829    0.32107  130.260870   \n",
            "std             1.03451      4.412477    0.478136    0.46767   77.614208   \n",
            "min             0.50000    113.000000    0.000000    0.00000    4.000000   \n",
            "25%             0.90000    134.000000    0.000000    0.00000   73.000000   \n",
            "50%             1.10000    137.000000    1.000000    0.00000  115.000000   \n",
            "75%             1.40000    140.000000    1.000000    1.00000  203.000000   \n",
            "max             9.40000    148.000000    1.000000    1.00000  285.000000   \n",
            "\n",
            "       DEATH_EVENT  \n",
            "count    299.00000  \n",
            "mean       0.32107  \n",
            "std        0.46767  \n",
            "min        0.00000  \n",
            "25%        0.00000  \n",
            "50%        0.00000  \n",
            "75%        1.00000  \n",
            "max        1.00000  \n",
            "                               age   anaemia  creatinine_phosphokinase  \\\n",
            "age                       1.000000  0.088006                 -0.081584   \n",
            "anaemia                   0.088006  1.000000                 -0.190741   \n",
            "creatinine_phosphokinase -0.081584 -0.190741                  1.000000   \n",
            "diabetes                 -0.101012 -0.012729                 -0.009639   \n",
            "ejection_fraction         0.060098  0.031557                 -0.044080   \n",
            "high_blood_pressure       0.093289  0.038182                 -0.070590   \n",
            "platelets                -0.052354 -0.043786                  0.024463   \n",
            "serum_creatinine          0.159187  0.052174                 -0.016408   \n",
            "serum_sodium             -0.045966  0.041882                  0.059550   \n",
            "sex                       0.065430 -0.094769                  0.079791   \n",
            "smoking                   0.018668 -0.107290                  0.002421   \n",
            "DEATH_EVENT               0.253729  0.066270                  0.062728   \n",
            "\n",
            "                          diabetes  ejection_fraction  high_blood_pressure  \\\n",
            "age                      -0.101012           0.060098             0.093289   \n",
            "anaemia                  -0.012729           0.031557             0.038182   \n",
            "creatinine_phosphokinase -0.009639          -0.044080            -0.070590   \n",
            "diabetes                  1.000000          -0.004850            -0.012732   \n",
            "ejection_fraction        -0.004850           1.000000             0.024445   \n",
            "high_blood_pressure      -0.012732           0.024445             1.000000   \n",
            "platelets                 0.092193           0.072177             0.049963   \n",
            "serum_creatinine         -0.046975          -0.011302            -0.004935   \n",
            "serum_sodium             -0.089551           0.175902             0.037109   \n",
            "sex                      -0.157730          -0.148386            -0.104615   \n",
            "smoking                  -0.147173          -0.067315            -0.055711   \n",
            "DEATH_EVENT              -0.001943          -0.268603             0.079351   \n",
            "\n",
            "                          platelets  serum_creatinine  serum_sodium       sex  \\\n",
            "age                       -0.052354          0.159187     -0.045966  0.065430   \n",
            "anaemia                   -0.043786          0.052174      0.041882 -0.094769   \n",
            "creatinine_phosphokinase   0.024463         -0.016408      0.059550  0.079791   \n",
            "diabetes                   0.092193         -0.046975     -0.089551 -0.157730   \n",
            "ejection_fraction          0.072177         -0.011302      0.175902 -0.148386   \n",
            "high_blood_pressure        0.049963         -0.004935      0.037109 -0.104615   \n",
            "platelets                  1.000000         -0.041198      0.062125 -0.125120   \n",
            "serum_creatinine          -0.041198          1.000000     -0.189095  0.006970   \n",
            "serum_sodium               0.062125         -0.189095      1.000000 -0.027566   \n",
            "sex                       -0.125120          0.006970     -0.027566  1.000000   \n",
            "smoking                    0.028234         -0.027414      0.004813  0.445892   \n",
            "DEATH_EVENT               -0.049139          0.294278     -0.195204 -0.004316   \n",
            "\n",
            "                           smoking  DEATH_EVENT  \n",
            "age                       0.018668     0.253729  \n",
            "anaemia                  -0.107290     0.066270  \n",
            "creatinine_phosphokinase  0.002421     0.062728  \n",
            "diabetes                 -0.147173    -0.001943  \n",
            "ejection_fraction        -0.067315    -0.268603  \n",
            "high_blood_pressure      -0.055711     0.079351  \n",
            "platelets                 0.028234    -0.049139  \n",
            "serum_creatinine         -0.027414     0.294278  \n",
            "serum_sodium              0.004813    -0.195204  \n",
            "sex                       0.445892    -0.004316  \n",
            "smoking                   1.000000    -0.012623  \n",
            "DEATH_EVENT              -0.012623     1.000000  \n",
            "        DEATH_EVENT                                             \n",
            "              count      mean       std  min  25%  50%  75%  max\n",
            "anaemia                                                         \n",
            "0             170.0  0.294118  0.456991  0.0  0.0  0.0  1.0  1.0\n",
            "1             129.0  0.356589  0.480859  0.0  0.0  0.0  1.0  1.0\n",
            "         DEATH_EVENT                                             \n",
            "               count      mean       std  min  25%  50%  75%  max\n",
            "diabetes                                                         \n",
            "0              174.0  0.321839  0.468530  0.0  0.0  0.0  1.0  1.0\n",
            "1              125.0  0.320000  0.468353  0.0  0.0  0.0  1.0  1.0\n",
            "                    DEATH_EVENT                                             \n",
            "                          count      mean       std  min  25%  50%  75%  max\n",
            "high_blood_pressure                                                         \n",
            "0                         194.0  0.293814  0.456687  0.0  0.0  0.0  1.0  1.0\n",
            "1                         105.0  0.371429  0.485504  0.0  0.0  0.0  1.0  1.0\n",
            "    DEATH_EVENT                                             \n",
            "          count      mean       std  min  25%  50%  75%  max\n",
            "sex                                                         \n",
            "0         105.0  0.323810  0.470173  0.0  0.0  0.0  1.0  1.0\n",
            "1         194.0  0.319588  0.467523  0.0  0.0  0.0  1.0  1.0\n",
            "        DEATH_EVENT                                             \n",
            "              count      mean       std  min  25%  50%  75%  max\n",
            "smoking                                                         \n",
            "0             203.0  0.325123  0.469579  0.0  0.0  0.0  1.0  1.0\n",
            "1              96.0  0.312500  0.465946  0.0  0.0  0.0  1.0  1.0\n",
            "[6]\n"
          ]
        },
        {
          "output_type": "display_data",
          "data": {
            "text/plain": [
              "<Figure size 640x480 with 1 Axes>"
            ],
            "image/png": "[encoded data removed]"
          },
          "metadata": {}
        },
        {
          "output_type": "stream",
          "name": "stdout",
          "text": [
            "[83]\n"
          ]
        },
        {
          "output_type": "display_data",
          "data": {
            "text/plain": [
              "<Figure size 640x480 with 1 Axes>"
            ],
            "image/png": "[encoded data removed]"
          },
          "metadata": {}
        }
      ]
    },
    {
      "cell_type": "markdown",
      "id": "8d193de6",
      "metadata": {
        "vscode": {
          "languageId": "plaintext"
        },
        "id": "8d193de6"
      },
      "source": [
        "**Q6.** This is a case study on $k$ nearest neighbor regression and imputation, using the `airbnb_hw.csv` data.\n",
        "\n",
        "There are 30,478 observations, but only 22,155 ratings. We're going to build a kNN regressor to impute missing values. This is a common task, and illustrates one way you can use kNN in the future even when you have more advanced models available.\n",
        "\n",
        "1. Load the `airbnb_hw.csv` data with Pandas. We're only going to use `Review Scores Rating`, `Price`, and `Beds`, so use `.loc` to reduce the dataframe to those variables.\n",
        "2. Set use `.isnull()` to select the subset of the dataframe with missing review values. Set those aside in a different dataframe. We'll make predictions about them later.\n",
        "3. Use `df = df.dropna(axis = 0, how = 'any')` to eliminate any observations with missing values/NA's from the dataframe.\n",
        "4. For the complete cases, create a $k$-NN model that uses the variables `Price` and `Beds` to predict `Review Scores Rating`. How do you choose $k$? (Hint: Train/test split, iterate over reasonable values of $k$ and find a value that minimizes SSE on the test split using predictions from the training set.)\n",
        "5. Predict the missing ratings.\n",
        "6. Do a kernel density plot of the training ratings and the predicted missing ratings. Do they look similar or not? Explain why."
      ]
    }
  ],
  "metadata": {
    "kernelspec": {
      "display_name": "Python 3 (ipykernel)",
      "language": "python",
      "name": "python3"
    },
    "language_info": {
      "codemirror_mode": {
        "name": "ipython",
        "version": 3
      },
      "file_extension": ".py",
      "mimetype": "text/x-python",
      "name": "python",
      "nbconvert_exporter": "python",
      "pygments_lexer": "ipython3",
      "version": "3.10.4"
    },
    "colab": {
      "provenance": []
    }
  },
  "nbformat": 4,
  "nbformat_minor": 5
}